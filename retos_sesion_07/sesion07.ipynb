{
 "cells": [
  {
   "cell_type": "markdown",
   "id": "6884dd44",
   "metadata": {},
   "source": [
    "# **Sesión 07**\n",
    "## **Tipos de datos**\n",
    "### **Cadenas**\n",
    "Una cadena es una secuencia de caracteres. Todos los caracteres que son imprimibles y no imprimibles:\n",
    "- Alfabeto\n",
    "- Números\n",
    "- Símbolos\n",
    "- Emojis\n",
    "- Espacios\n",
    "- Tabulaciones\n",
    "- Saltos de línea"
   ]
  },
  {
   "cell_type": "markdown",
   "id": "2e40fdd1",
   "metadata": {},
   "source": [
    "### ¿Cómo declaro una cadena?\n",
    "Las cadenas se definen en el código de diferentes maneras pero siempre entre alguno de los siguientes caracteres:\n",
    "- **Comillas Simples:** 'Mi cadena permite comillas \"dobles\" en una sola línea '\n",
    "- **Comillas Dobles:** \"Mi cadena permite comillas 'simples' en una sola línea \"\n",
    "- **Triples comillas simples:** ''' Mi cadena permite contenido en varias líneas'''\n",
    "- **Triples comillas dobles:** \"\"\" Mi cadena permite contenido en varias líneas \"\"\""
   ]
  },
  {
   "cell_type": "code",
   "execution_count": 1,
   "id": "ea34f416",
   "metadata": {},
   "outputs": [
    {
     "name": "stdout",
     "output_type": "stream",
     "text": [
      "Mi cadena permite comillas \"dobles\" en una sola línea\n",
      "Mi cadena permite comillas 'simples' en una sola línea\n",
      "Mi cadena permite contenido en varias líneas y comillas \"dobles\" \n",
      "Mi cadena permite contenido en varias líneas y comillas 'simples' \n"
     ]
    }
   ],
   "source": [
    "simple = 'Mi cadena permite comillas \"dobles\" en una sola línea'\n",
    "doble  = \"Mi cadena permite comillas 'simples' en una sola línea\"\n",
    "triple_simple = '''Mi cadena permite contenido en varias líneas y comillas \"dobles\" '''\n",
    "triple_doble = \"\"\"Mi cadena permite contenido en varias líneas y comillas 'simples' \"\"\"\n",
    "print (simple)\n",
    "print (doble)\n",
    "print (triple_simple)\n",
    "print (triple_doble)"
   ]
  },
  {
   "cell_type": "markdown",
   "id": "55ad7567",
   "metadata": {},
   "source": [
    "El método \"str\" recibe un objeto cualquiera y lo retorna como una cadena de caracteres:"
   ]
  },
  {
   "cell_type": "code",
   "execution_count": 2,
   "id": "ab273040",
   "metadata": {},
   "outputs": [
    {
     "name": "stdout",
     "output_type": "stream",
     "text": [
      "1\n",
      "0.001\n",
      "10\n",
      "True\n",
      "<class 'str'>\n",
      "<class 'str'>\n",
      "<class 'str'>\n",
      "<class 'str'>\n"
     ]
    }
   ],
   "source": [
    "entero = str(1)\n",
    "flotante = str(1E-3)\n",
    "hexadecimal = str(0xA)\n",
    "booleano = str (True)\n",
    "print (entero)\n",
    "print (flotante)\n",
    "print (hexadecimal)\n",
    "print (booleano)\n",
    "print (type(entero))\n",
    "print (type(flotante))\n",
    "print (type(hexadecimal))\n",
    "print (type(booleano))"
   ]
  },
  {
   "cell_type": "markdown",
   "id": "1245246b",
   "metadata": {},
   "source": [
    "### Escape de caracteres\n",
    "En python el carácter especial que nos permite escapar caracteres es el barra invertida o backslash: \\\n",
    "Ejemplo, imprimir la cadena: \n",
    "El mensaje enviado fue: **\"Hello, I'm a message\"**"
   ]
  },
  {
   "cell_type": "code",
   "execution_count": 4,
   "id": "3c69517e",
   "metadata": {},
   "outputs": [
    {
     "name": "stdout",
     "output_type": "stream",
     "text": [
      "El mensaje enviado fue: \"Hello, I'm a message\"\n",
      "El mensaje enviado fue: \"Hello, I'm a message\"\n"
     ]
    }
   ],
   "source": [
    "print (\"El mensaje enviado fue: \\\"Hello, I\\'m a message\\\"\")\n",
    "print ('El mensaje enviado fue: \\\"Hello, I\\'m a message\\\"')"
   ]
  },
  {
   "cell_type": "markdown",
   "id": "21c69246",
   "metadata": {},
   "source": [
    "Existen combinaciones de escapado que generan caracteres especiales los más comunes son:\n",
    "\n",
    "- \\n : Agrega el carácter ASCII (LF) que representa un salto de línea.\n",
    "- \\t : Agrega el carácter ASCII (TAB) que representa una tabulación horizontal.\n",
    "- \\v : Agrega el carácter ASCII (VT) que representa una tabulación vertical.\n",
    "- \\b : Agrega el carácter ASCII (BS) que representa un retroceso.\n",
    "- \\ : Agrega el carácter de backslash o barra invertida.\n",
    "- \\ <newline> : Agrega un salto de línea en el código pero no en la impresión."
   ]
  },
  {
   "cell_type": "code",
   "execution_count": 5,
   "id": "c02d7f9e",
   "metadata": {},
   "outputs": [
    {
     "name": "stdout",
     "output_type": "stream",
     "text": [
      "Hola,\n",
      "\teste es un mensaje \u000bcon algunos caracteres \\especiales como \\ y tabulador.\n"
     ]
    },
    {
     "name": "stderr",
     "output_type": "stream",
     "text": [
      "<>:1: SyntaxWarning: invalid escape sequence '\\e'\n",
      "<>:1: SyntaxWarning: invalid escape sequence '\\e'\n",
      "C:\\Users\\MARY\\AppData\\Local\\Temp\\ipykernel_4180\\1157664211.py:1: SyntaxWarning: invalid escape sequence '\\e'\n",
      "  mensaje = \"Hola,\\n\\teste es un mensaje \\vcon algunos caracteres \\especiales como \\\\ y tabulador.\"\n"
     ]
    }
   ],
   "source": [
    "mensaje = \"Hola,\\n\\teste es un mensaje \\vcon algunos caracteres \\especiales como \\\\ y tabulador.\"\n",
    "print(mensaje)"
   ]
  },
  {
   "cell_type": "markdown",
   "id": "07ab9dbd",
   "metadata": {},
   "source": [
    "### Método Input\n",
    "El método \"input\" nos permite ingresar contenido al programa y es procesado como una cadena."
   ]
  },
  {
   "cell_type": "code",
   "execution_count": null,
   "id": "e94d0bc7",
   "metadata": {},
   "outputs": [],
   "source": [
    "entrada = input(\"Ingrese un valor: \")\n",
    "print (entrada)\n",
    "print (type(entrada))"
   ]
  },
  {
   "cell_type": "code",
   "execution_count": null,
   "id": "a94de6a6",
   "metadata": {},
   "outputs": [],
   "source": [
    "entero = int(input(\"Ingrese un valor entero: \"))\n",
    "print (entero, type(entero))\n",
    "\n",
    "flotante = float(input(\"Ingrese un valor flotante: \"))\n",
    "print (flotante, type(flotante))\n",
    "\n",
    "booleano = bool(input(\"Ingrese un valor booleano: \"))\n",
    "print (booleano, type(booleano))"
   ]
  },
  {
   "cell_type": "markdown",
   "id": "783d265b",
   "metadata": {},
   "source": [
    "### Manejo de Indices\n",
    "Las cadenas son secuencias de caracteres por lo cual pueden ser representados de la siguiente manera."
   ]
  },
  {
   "cell_type": "code",
   "execution_count": 2,
   "id": "2ba94c9c",
   "metadata": {},
   "outputs": [
    {
     "name": "stdout",
     "output_type": "stream",
     "text": [
      "Indexado positivo\n",
      "banana\n",
      "b\n",
      "a\n",
      "Indexado negativo\n",
      "banana\n",
      "a\n",
      "a\n"
     ]
    }
   ],
   "source": [
    "print (\"Indexado positivo\")\n",
    "fruta = \"banana\"\n",
    "print (fruta)\n",
    "print (fruta[0])\n",
    "print (fruta[5])\n",
    "\n",
    "print (\"Indexado negativo\")\n",
    "fruta = \"banana\"\n",
    "print (fruta)\n",
    "print (fruta[-1])\n",
    "print (fruta[-3])\n"
   ]
  },
  {
   "cell_type": "markdown",
   "id": "67e06c0e",
   "metadata": {},
   "source": [
    "### Segmentación o Slicing\n",
    "Slicing es la técnica que permite extraer una parte de una secuencia de caracteres utilizando los indices de esta cadena.\n",
    "***El resultado es una sub cadena***"
   ]
  },
  {
   "cell_type": "code",
   "execution_count": 3,
   "id": "85c674c4",
   "metadata": {},
   "outputs": [
    {
     "name": "stdout",
     "output_type": "stream",
     "text": [
      "Slicing\n",
      "LaPaz-Bolivia\n",
      "Slicing con índices positivos\n",
      "LaPaz-\n",
      "LPz\n",
      "Slicing con índices negativos\n",
      "az-Boliv\n",
      "a-oi\n",
      "Slicing sin índice inicial y final\n",
      "LaPaz-\n",
      "Bolivia\n",
      "Slicing sin índice inicial ni final\n",
      "LaPaz-Bolivia\n",
      "LPzBlva\n",
      "Slicing con paso negativo\n",
      "viloB-\n",
      "vlBzPL\n"
     ]
    }
   ],
   "source": [
    "print (\"Slicing\")\n",
    "ciudad =  \"LaPaz-Bolivia\"\n",
    "print (ciudad)\n",
    "print (\"Slicing con índices positivos\")\n",
    "print (ciudad[0:6])\n",
    "print (ciudad[0:6:2])\n",
    "print (\"Slicing con índices negativos\")\n",
    "print (ciudad[-10:-2])\n",
    "print (ciudad[-10:-2:2])\n",
    "\n",
    "print (\"Slicing sin índice inicial y final\")\n",
    "print (ciudad[:6])\n",
    "print (ciudad[6:])\n",
    "print (\"Slicing sin índice inicial ni final\")\n",
    "print (ciudad[:])\n",
    "print (ciudad[::2])\n",
    "\n",
    "print (\"Slicing con paso negativo\")\n",
    "print (ciudad[10:4:-1])\n",
    "print (ciudad[10::-2])\n"
   ]
  },
  {
   "cell_type": "markdown",
   "id": "8e8b22b2",
   "metadata": {},
   "source": [
    "### Concatenación de una cadena\n",
    "Las cadenas se pueden concatenar con el operador + generando una nueva cadena en el resultado."
   ]
  },
  {
   "cell_type": "code",
   "execution_count": 4,
   "id": "7dac55d6",
   "metadata": {},
   "outputs": [
    {
     "name": "stdout",
     "output_type": "stream",
     "text": [
      "Concatenación de cadenas\n",
      "Hola Mundo\n"
     ]
    }
   ],
   "source": [
    "print (\"Concatenación de cadenas\")\n",
    "cadena1 = \"Hola\"\n",
    "cadena2 = \"Mundo\"\n",
    "concatenada = cadena1 + \" \" + cadena2\n",
    "print (concatenada)"
   ]
  },
  {
   "cell_type": "markdown",
   "id": "aebc4286",
   "metadata": {},
   "source": [
    "### Repetición de una cadena\n",
    "Las cadenas pueden ser repetidas utilizando el operador * y un número entero **N** que genera una nueva cadena repetida **N** veces."
   ]
  },
  {
   "cell_type": "code",
   "execution_count": 5,
   "id": "401e8913",
   "metadata": {},
   "outputs": [
    {
     "name": "stdout",
     "output_type": "stream",
     "text": [
      "Repetición de cadenas\n",
      "-#--#--#--#--#--#--#--#--#--#-\n"
     ]
    }
   ],
   "source": [
    "print (\"Repetición de cadenas\")\n",
    "cadena = \"-#-\"\n",
    "repetida = cadena * 10\n",
    "print (repetida)"
   ]
  },
  {
   "cell_type": "markdown",
   "id": "492caa3e",
   "metadata": {},
   "source": [
    "### Longitud de una cadena\n",
    "Una de las funciones más importantes es la función len que nos permite obtener la longitud de una cadena específica. La longitud de una cadena es del tipo entero"
   ]
  },
  {
   "cell_type": "code",
   "execution_count": 6,
   "id": "4ae0c328",
   "metadata": {},
   "outputs": [
    {
     "name": "stdout",
     "output_type": "stream",
     "text": [
      "Longitud de una cadena\n",
      "Hola Mundo :D\n",
      "13 <class 'int'>\n"
     ]
    }
   ],
   "source": [
    "print (\"Longitud de una cadena\")\n",
    "cadena = \"Hola Mundo :D\"\n",
    "longitud = len(cadena)\n",
    "print (cadena)\n",
    "print (longitud, type(longitud))"
   ]
  },
  {
   "cell_type": "markdown",
   "id": "4d21a9d0",
   "metadata": {},
   "source": [
    "### Métodos de Cadenas\n",
    "Las cadenas en Python tienen múltiples métodos para realizar tareas y procesarlas.\n",
    "Permitiéndonos hacer modificaciones a las cadenas. \n",
    "Se llama estas funciones utilizando la cadena seguido de un punto, el nombre de la función y paréntesis\n",
    "***cadena.funcion()***\n",
    "\n",
    "#### Upper\n",
    "**upper():** Retorna una copia de la cadena donde todos los caracteres de la cadena son convertidos a su equivalente en mayúsculas"
   ]
  },
  {
   "cell_type": "code",
   "execution_count": 7,
   "id": "a33bc6dd",
   "metadata": {},
   "outputs": [
    {
     "name": "stdout",
     "output_type": "stream",
     "text": [
      "Función Upper\n",
      "cadena Inicial #1\n",
      "CADENA INICIAL #1\n"
     ]
    }
   ],
   "source": [
    "print (\"Función Upper\")\n",
    "cadena = \"cadena Inicial #1\"\n",
    "mayuscula  = cadena.upper()\n",
    "print (cadena)\n",
    "print (mayuscula)"
   ]
  },
  {
   "cell_type": "markdown",
   "id": "20ab6ad3",
   "metadata": {},
   "source": [
    "#### Lower\n",
    "**lower():** Retorna una copia de la cadena donde todos los caracteres de la cadena son convertidos a su equivalente en minúsculas"
   ]
  },
  {
   "cell_type": "code",
   "execution_count": 8,
   "id": "3a8da47e",
   "metadata": {},
   "outputs": [
    {
     "name": "stdout",
     "output_type": "stream",
     "text": [
      "Función Lower\n",
      "Cadena INICIAL #2\n",
      "cadena inicial #2\n"
     ]
    }
   ],
   "source": [
    "print (\"Función Lower\")\n",
    "cadena = \"Cadena INICIAL #2\"\n",
    "minuscula  = cadena.lower()\n",
    "print (cadena)\n",
    "print (minuscula)"
   ]
  },
  {
   "cell_type": "markdown",
   "id": "824dc14b",
   "metadata": {},
   "source": [
    "#### Capitalize\n",
    "**capitalize():** Retorna una copia de la secuencia de caracteres donde el primer carácter de la cadena es convertido en Mayúscula y el resto de la cadena en minúsculas"
   ]
  },
  {
   "cell_type": "code",
   "execution_count": 9,
   "id": "f3beaa30",
   "metadata": {},
   "outputs": [
    {
     "name": "stdout",
     "output_type": "stream",
     "text": [
      "Función Capitalize\n",
      "cadena INICIAL #3\n",
      "Cadena inicial #3\n"
     ]
    }
   ],
   "source": [
    "print (\"Función Capitalize\")\n",
    "cadena = \"cadena INICIAL #3\"\n",
    "capital = cadena.capitalize()\n",
    "print (cadena)\n",
    "print (capital)"
   ]
  },
  {
   "cell_type": "markdown",
   "id": "14dbb62b",
   "metadata": {},
   "source": [
    "#### Title\n",
    "**title():** Retorna una copia en formato título de la cadena, la primera letra de cada palabra estará en mayúsculas y el resto en minúsculas"
   ]
  },
  {
   "cell_type": "code",
   "execution_count": 10,
   "id": "ee371038",
   "metadata": {},
   "outputs": [
    {
     "name": "stdout",
     "output_type": "stream",
     "text": [
      "Función Title\n",
      "CADENA inicial #4\n",
      "Cadena Inicial #4\n"
     ]
    }
   ],
   "source": [
    "print (\"Función Title\")\n",
    "cadena = \"CADENA inicial #4\"\n",
    "titulo = cadena.title()\n",
    "print (cadena)\n",
    "print (titulo)"
   ]
  },
  {
   "cell_type": "markdown",
   "id": "6fe0dead",
   "metadata": {},
   "source": [
    "#### Swapcase\n",
    "**swapcase():** Retorna una copia de la cadena donde los caracteres son convertidos en su version inversa, caracteres en upper cambian a lower y vice versa"
   ]
  },
  {
   "cell_type": "code",
   "execution_count": 11,
   "id": "b839510b",
   "metadata": {},
   "outputs": [
    {
     "name": "stdout",
     "output_type": "stream",
     "text": [
      "Función Swapcase\n",
      "CADena InIcIaL #5\n",
      "cadENA iNiCiAl #5\n"
     ]
    }
   ],
   "source": [
    "print (\"Función Swapcase\")\n",
    "cadena = \"CADena InIcIaL #5\"\n",
    "swap = cadena.swapcase()\n",
    "print (cadena)\n",
    "print (swap)"
   ]
  },
  {
   "cell_type": "markdown",
   "id": "9828304f",
   "metadata": {},
   "source": [
    "#### Count\n",
    "**count():** Cuenta las veces que aparece una cadena dentro de otra cadena recibe como parámetro la cadena a buscar"
   ]
  },
  {
   "cell_type": "code",
   "execution_count": 12,
   "id": "4fc27adf",
   "metadata": {},
   "outputs": [
    {
     "name": "stdout",
     "output_type": "stream",
     "text": [
      "Función Count\n",
      "Cantidad de veces la letra A\n",
      "4 <class 'int'>\n"
     ]
    }
   ],
   "source": [
    "print (\"Función Count\")\n",
    "cadena = \"Cantidad de veces la letra A\"\n",
    "contar = cadena.count(\"a\")\n",
    "print(cadena)\n",
    "print(contar, type(contar))"
   ]
  },
  {
   "cell_type": "markdown",
   "id": "ba2daa3c",
   "metadata": {},
   "source": [
    "#### Find\n",
    "**find():** Busca y devuelve el índice en el que se encuentra la cadena dentro de otra, empezando por la izquierda o inicio, si no encuentra devuelve -1\n",
    "#### Rfind\n",
    "**rfind():** Busca y devuelve el índice en el que se encuentra la cadena dentro de otra cadena, empezando por la derecha o final, si no encuentra devuelve -1\n",
    "\n",
    "Find y Rfind devuelven -1 si no encuentran la cadena"
   ]
  },
  {
   "cell_type": "code",
   "execution_count": 13,
   "id": "46f9d9a5",
   "metadata": {},
   "outputs": [
    {
     "name": "stdout",
     "output_type": "stream",
     "text": [
      "Función Find\n",
      "Encontrar las letras las\n",
      "10 <class 'int'>\n",
      "Función Rfind\n",
      "Encontrar las letras las\n",
      "21 <class 'int'>\n",
      "Función Find y Rfind\n",
      "Encontrar tres O\n",
      "-1 <class 'int'>\n",
      "-1 <class 'int'>\n"
     ]
    }
   ],
   "source": [
    "print (\"Función Find\")\n",
    "cadena = \"Encontrar las letras las\"\n",
    "buscar = cadena.find(\"las\")\n",
    "print(cadena)\n",
    "print(buscar, type(buscar))\n",
    "\n",
    "print (\"Función Rfind\")\n",
    "cadena = \"Encontrar las letras las\"\n",
    "buscar = cadena.rfind(\"las\")\n",
    "print(cadena)\n",
    "print(buscar, type(buscar))\n",
    "\n",
    "print (\"Función Find y Rfind\")\n",
    "cadena = \"Encontrar tres O\"\n",
    "buscar = cadena.find(\"OOO\")\n",
    "print(cadena)\n",
    "print(buscar, type(buscar))\n",
    "buscar = cadena.rfind(\"OOO\")\n",
    "print(buscar, type(buscar))"
   ]
  },
  {
   "cell_type": "markdown",
   "id": "2054279e",
   "metadata": {},
   "source": [
    "- isdigit(): Devuelve un booleano si la cadena contiene sólo números\n",
    "- isalpha(): Devuelve un booleano si la cadena contiene sólo caracteres alfabéticos\n",
    "- isalnum(): Devuelve un booleano si la cadena contiene solo números y caracteres alfabéticos"
   ]
  },
  {
   "cell_type": "code",
   "execution_count": 14,
   "id": "090e3146",
   "metadata": {},
   "outputs": [
    {
     "name": "stdout",
     "output_type": "stream",
     "text": [
      "Función isdigit\n",
      "True <class 'bool'>\n",
      "Función isalpha\n",
      "True <class 'bool'>\n",
      "Función isalnum\n",
      "True <class 'bool'>\n"
     ]
    }
   ],
   "source": [
    "print (\"Función isdigit\")\n",
    "resultado = \"100\".isdigit()\n",
    "print (resultado, type(resultado))\n",
    "print (\"Función isalpha\")\n",
    "resultado = \"Hola\".isalpha()\n",
    "print (resultado, type(resultado))\n",
    "print (\"Función isalnum\")\n",
    "resultado = \"usuario123\".isalnum()\n",
    "print (resultado, type(resultado))"
   ]
  },
  {
   "cell_type": "markdown",
   "id": "c8a7f152",
   "metadata": {},
   "source": [
    "#### Split\n",
    "**split():** Retorna una lista de palabras utilizando un separador para delimitar las cadenas separadas"
   ]
  },
  {
   "cell_type": "code",
   "execution_count": 15,
   "id": "af14bcb5",
   "metadata": {},
   "outputs": [
    {
     "name": "stdout",
     "output_type": "stream",
     "text": [
      "Función split\n",
      "pan,carne,huevos\n",
      "['pan', 'carne', 'huevos'] <class 'list'>\n"
     ]
    }
   ],
   "source": [
    "print (\"Función split\")\n",
    "cadena = \"pan,carne,huevos\"\n",
    "separado = cadena.split(\",\")\n",
    "print (cadena)\n",
    "print (separado, type(separado))"
   ]
  },
  {
   "cell_type": "markdown",
   "id": "91e157da",
   "metadata": {},
   "source": [
    "#### Join\n",
    "**join():** Retorna una copia de una cadena en la cual concatena la cadena con el contenido de otra cadena"
   ]
  },
  {
   "cell_type": "code",
   "execution_count": 16,
   "id": "cc37d1e6",
   "metadata": {},
   "outputs": [
    {
     "name": "stdout",
     "output_type": "stream",
     "text": [
      "Función join\n",
      "abcdefghij\n",
      "a-b-c-d-e-f-g-h-i-j\n"
     ]
    }
   ],
   "source": [
    "print (\"Función join\")\n",
    "cadena = \"abcdefghij\"\n",
    "unido = \"-\".join(cadena)\n",
    "print (cadena)\n",
    "print (unido)"
   ]
  },
  {
   "cell_type": "markdown",
   "id": "d11c05c3",
   "metadata": {},
   "source": [
    "#### Strip\n",
    "**strip():** Remueve los caracteres la izquierda y a la derecha de la cadena por defecto remueve espacios en blanco, si se envía un valor eliminará esos caracteres"
   ]
  },
  {
   "cell_type": "code",
   "execution_count": 17,
   "id": "101e2cf5",
   "metadata": {},
   "outputs": [
    {
     "name": "stdout",
     "output_type": "stream",
     "text": [
      "Función strip\n",
      "      Hola    Mundo     \n",
      "Hola    Mundo\n",
      "-abc--def-ghi-cba----\n",
      "def-ghi\n"
     ]
    }
   ],
   "source": [
    "print (\"Función strip\")\n",
    "cadena = \"      Hola    Mundo     \"\n",
    "limpio = cadena.strip()\n",
    "print (cadena)\n",
    "print (limpio)\n",
    "cadena = \"-abc--def-ghi-cba----\"\n",
    "limpio = cadena.strip(\"bac-\")\n",
    "print (cadena)\n",
    "print (limpio)"
   ]
  },
  {
   "cell_type": "markdown",
   "id": "8f0ad897",
   "metadata": {},
   "source": [
    "#### Replace\n",
    "**replace():** Retorna una copia de la cadena con contenido reemplazado por otra cadena"
   ]
  },
  {
   "cell_type": "code",
   "execution_count": 18,
   "id": "afa9aea8",
   "metadata": {},
   "outputs": [
    {
     "name": "stdout",
     "output_type": "stream",
     "text": [
      "Función replace\n",
      "Me gusta programar en JS, Amo JS\n",
      "Me gusta programar en Python, Amo Python\n"
     ]
    }
   ],
   "source": [
    "print (\"Función replace\")\n",
    "cadena = \"Me gusta programar en JS, Amo JS\"\n",
    "reemplazado = cadena.replace(\"JS\", \"Python\")\n",
    "print (cadena)\n",
    "print (reemplazado)"
   ]
  },
  {
   "cell_type": "markdown",
   "id": "f95fcab2",
   "metadata": {},
   "source": [
    "#### format\n",
    "**format():** Realiza una operación de formateo e inserta contenido a la cadena delimitado por llaves {}"
   ]
  },
  {
   "cell_type": "code",
   "execution_count": 20,
   "id": "8b5fc366",
   "metadata": {},
   "outputs": [
    {
     "name": "stdout",
     "output_type": "stream",
     "text": [
      "Función format\n",
      "El valor de PI es: {}\n",
      "El valor de PI es: 3.1416\n",
      "Función format con índices\n",
      "{2} es la suma de {0} y {1}\n",
      "8 es la suma de 5 y 3\n",
      "Función format con nombres\n",
      "{ciudad} es la capital de {pais}\n",
      "París es la capital de Francia\n",
      "Función format con f-string\n",
      "La moneda de Bolivia es el Boliviano\n"
     ]
    }
   ],
   "source": [
    "print (\"Función format\")\n",
    "cadena = \"El valor de PI es: {}\"\n",
    "formateado = cadena.format(3.1416)\n",
    "print (cadena)\n",
    "print (formateado)\n",
    "\n",
    "print (\"Función format con índices\")\n",
    "cadena = \"{2} es la suma de {0} y {1}\"\n",
    "valor_1 = 5\n",
    "valor_2 = 3\n",
    "resultado = valor_1+valor_2\n",
    "formateado = cadena.format(valor_1, valor_2, resultado)\n",
    "print (cadena)\n",
    "print (formateado)\n",
    "\n",
    "print (\"Función format con nombres\")\n",
    "cadena = \"{ciudad} es la capital de {pais}\"\n",
    "pais = \"Francia\"\n",
    "ciudad = \"París\"\n",
    "formateado = cadena.format(pais=pais, ciudad=ciudad)\n",
    "print (cadena)\n",
    "print (formateado)\n",
    "\n",
    "print (\"Función format con f-string\")\n",
    "moneda = \"Boliviano\"\n",
    "pais = \"Bolivia\"\n",
    "formateado = f\"La moneda de {pais} es el {moneda}\"\n",
    "print (formateado)"
   ]
  }
 ],
 "metadata": {
  "kernelspec": {
   "display_name": "Python 3",
   "language": "python",
   "name": "python3"
  },
  "language_info": {
   "codemirror_mode": {
    "name": "ipython",
    "version": 3
   },
   "file_extension": ".py",
   "mimetype": "text/x-python",
   "name": "python",
   "nbconvert_exporter": "python",
   "pygments_lexer": "ipython3",
   "version": "3.13.3"
  }
 },
 "nbformat": 4,
 "nbformat_minor": 5
}
