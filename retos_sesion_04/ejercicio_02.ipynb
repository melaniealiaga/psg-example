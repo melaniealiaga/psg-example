{
 "cells": [
  {
   "cell_type": "markdown",
   "id": "fe4b2b93",
   "metadata": {},
   "source": [
    "# Ejercicio 02\n",
    "Este ejercicio consiste en imprimir una figura, en este caso se opto\n",
    "por la realización de un **dinosaurio**, utilizando símbolos como: \n",
    "**, (), \\, |, /, o, \", ', =, C.*\n"
   ]
  },
  {
   "cell_type": "code",
   "execution_count": 5,
   "id": "8a5c1385",
   "metadata": {},
   "outputs": [
    {
     "name": "stdout",
     "output_type": "stream",
     "text": [
      "           __\n",
      "          /'_)\n",
      "   .-^^^-/ /\n",
      " /(_____///\n",
      "/  |_| |_|\n"
     ]
    }
   ],
   "source": [
    "print(\"           __\")\n",
    "print(\"          /'_)\")\n",
    "print(\"   .-^^^-/ /\")\n",
    "print(\" /(_____///\")\n",
    "print(\"/  |_| |_|\")"
   ]
  }
 ],
 "metadata": {
  "kernelspec": {
   "display_name": "Python 3",
   "language": "python",
   "name": "python3"
  },
  "language_info": {
   "codemirror_mode": {
    "name": "ipython",
    "version": 3
   },
   "file_extension": ".py",
   "mimetype": "text/x-python",
   "name": "python",
   "nbconvert_exporter": "python",
   "pygments_lexer": "ipython3",
   "version": "3.13.3"
  }
 },
 "nbformat": 4,
 "nbformat_minor": 5
}
