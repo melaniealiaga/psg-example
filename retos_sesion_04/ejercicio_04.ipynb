{
 "cells": [
  {
   "cell_type": "markdown",
   "id": "4b90d568",
   "metadata": {},
   "source": [
    "# Guardianes del Bosque 🌳🐺🐻🛡\n",
    "\n",
    "En este juego, dos bandos mágicos luchan por proteger el Bosque Sagrado: los **Lobos Guardianes** y los **Hechiceros Osos**. Cada uno tiene poderes y símbolos únicos. El tablero muestra el bosque dividido en *6x6* zonas. El objetivo es colocar tus personajes y visualizar la batalla.\n"
   ]
  },
  {
   "cell_type": "markdown",
   "id": "dcbb92fc",
   "metadata": {},
   "source": [
    "## Reglas del Juego\n",
    "\n",
    "1. El tablero tiene 6 filas por 6 columnas.\n",
    "2. Cada equipo tiene 3 personajes mágicos diferentes.\n",
    "3. Los personajes se colocan en el tablero por turno, empezando por el equipo Lobos.\n",
    "4. Este juego no incluye lógica de turnos ni movimientos aún, solo la visualización del tablero y los personajes."
   ]
  },
  {
   "cell_type": "code",
   "execution_count": 2,
   "id": "4721bc93",
   "metadata": {},
   "outputs": [
    {
     "name": "stdout",
     "output_type": "stream",
     "text": [
      "🌳 TABLERO DEL BOSQUE 🌳\n",
      "    A     B     C     D     E     F\n",
      "  +-----+-----+-----+-----+-----+-----+\n",
      "1 |     |     |     |     |     |     |\n",
      "  +-----+-----+-----+-----+-----+-----+\n",
      "2 |     |     |     |     |     |     |\n",
      "  +-----+-----+-----+-----+-----+-----+\n",
      "3 |     |     |     |     |     |     |\n",
      "  +-----+-----+-----+-----+-----+-----+\n",
      "4 |     |     |     |     |     |     |\n",
      "  +-----+-----+-----+-----+-----+-----+\n",
      "5 |     |     |     |     |     |     |\n",
      "  +-----+-----+-----+-----+-----+-----+\n",
      "6 |     |     |     |     |     |     |\n",
      "  +-----+-----+-----+-----+-----+-----+\n"
     ]
    }
   ],
   "source": [
    "print(\"🌳 TABLERO DEL BOSQUE 🌳\")\n",
    "print(\"    A     B     C     D     E     F\")\n",
    "print(\"  +-----+-----+-----+-----+-----+-----+\")\n",
    "for i in range(1, 7):\n",
    "    print(f\"{i} |     |     |     |     |     |     |\")\n",
    "    print(\"  +-----+-----+-----+-----+-----+-----+\")\n"
   ]
  },
  {
   "cell_type": "markdown",
   "id": "435bf2e1",
   "metadata": {},
   "source": [
    "## Personajes del Juego\n",
    "\n",
    "### 🐺 Lobos Guardianes\n",
    "- **Lobo Alfa**:     `/\\\\_/\\\\`\n",
    "- **Lobo Sombrío**:  `( o.o )`\n",
    "- **Lobo Rugiente**: `(ᗒᗣᗕ )`\n",
    "\n",
    "### 🐻 Hechiceros Osos\n",
    "- **Hechicera Luz**:   `ʕ✧ω✧ʔ`\n",
    "- **Mago del Tiempo**: `ʕ◕ᴥ◕ʔ`\n",
    "- **Druida Sabio**:    `ʕ=^.^=ʔ`"
   ]
  },
  {
   "cell_type": "code",
   "execution_count": 9,
   "id": "2eeb9ca2",
   "metadata": {},
   "outputs": [
    {
     "name": "stdout",
     "output_type": "stream",
     "text": [
      "🐺 Lobos Guardianes:\n",
      "Lobo Alfa:     /\\_/\\\n",
      "Lobo Sombrío:  ( o.o )\n",
      "Lobo Rugiente: (ᗒᗣᗕ )\n",
      "\n",
      "🐻 Hechiceros Osos:\n",
      "Hechicera Luz:   ʕ✧ω✧ʔ\n",
      "Mago del Tiempo: ʕ◕ᴥ◕ʔ\n",
      "Druida Sabio:    ʕ=^.^=ʔ\n"
     ]
    }
   ],
   "source": [
    "# 🐺 Lobos Guardianes\n",
    "print(\"🐺 Lobos Guardianes:\")\n",
    "print(\"Lobo Alfa:     /\\\\_/\\\\\")\n",
    "print(\"Lobo Sombrío:  ( o.o )\")\n",
    "print(\"Lobo Rugiente: (ᗒᗣᗕ )\")\n",
    "\n",
    "# 🐻 Hechiceros Osos\n",
    "print(\"\\n🐻 Hechiceros Osos:\")\n",
    "print(\"Hechicera Luz:   ʕ✧ω✧ʔ\")\n",
    "print(\"Mago del Tiempo: ʕ◕ᴥ◕ʔ\")\n",
    "print(\"Druida Sabio:    ʕ=^.^=ʔ\")"
   ]
  }
 ],
 "metadata": {
  "kernelspec": {
   "display_name": "Python 3",
   "language": "python",
   "name": "python3"
  },
  "language_info": {
   "codemirror_mode": {
    "name": "ipython",
    "version": 3
   },
   "file_extension": ".py",
   "mimetype": "text/x-python",
   "name": "python",
   "nbconvert_exporter": "python",
   "pygments_lexer": "ipython3",
   "version": "3.13.3"
  }
 },
 "nbformat": 4,
 "nbformat_minor": 5
}
