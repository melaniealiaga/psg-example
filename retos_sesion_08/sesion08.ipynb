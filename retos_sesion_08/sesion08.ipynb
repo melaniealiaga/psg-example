{
 "cells": [
  {
   "cell_type": "markdown",
   "id": "9ff770d8",
   "metadata": {},
   "source": [
    "# **Sesión 08**\n",
    "## **Estructuras de datos**\n",
    "### **TUPLAS**\n",
    "#### ¿Qué es una estructura de datos?\n",
    "Es una forma de organizar y almacenar datos de manera eficiente para su uso y manipulación, \n",
    "las más comunes son tuplas, listas, conjuntos y diccionarios.\n",
    "#### ¿Qué es una tupla?\n",
    "Una tupla es un par ordenado de elementos que se almacenan juntos (x,y)\n",
    "En un inicio almacena dos elementos. Posteriormente se extendió a más elementos"
   ]
  },
  {
   "cell_type": "markdown",
   "id": "a39238aa",
   "metadata": {},
   "source": [
    "Una tupla es una secuencia de objetos **INMUTABLES**\n",
    "#### Ordenados e indexados\n",
    "- Inmutable: No se puede modificar, agregar o eliminar elementos después de su creación\n",
    "- Ordenada: Los elementos tienen un orden definido y no cambian\n",
    "- Indexada: Cada elemento tiene un índice asociado a su posición en la tupla para acceder a él"
   ]
  },
  {
   "cell_type": "markdown",
   "id": "64d453e0",
   "metadata": {},
   "source": [
    "#### **Tupla de enteros**"
   ]
  },
  {
   "cell_type": "code",
   "execution_count": 1,
   "id": "dcf2ac6a",
   "metadata": {},
   "outputs": [
    {
     "name": "stdout",
     "output_type": "stream",
     "text": [
      "Tupla de enteros\n",
      "(1, 2, 3, 4, 5, 6)\n",
      "<class 'tuple'>\n"
     ]
    }
   ],
   "source": [
    "print (\"Tupla de enteros\")\n",
    "enteros = (1,2,3,4,5,6)\n",
    "print (enteros)\n",
    "print (type(enteros))"
   ]
  },
  {
   "cell_type": "markdown",
   "id": "9c4a8951",
   "metadata": {},
   "source": [
    "#### **Tupla de enteros**"
   ]
  },
  {
   "cell_type": "code",
   "execution_count": 2,
   "id": "1b359ddb",
   "metadata": {},
   "outputs": [
    {
     "name": "stdout",
     "output_type": "stream",
     "text": [
      "Tupla de cadenas\n",
      "('hola', 'mundo', 'desde', 'python')\n",
      "<class 'tuple'>\n"
     ]
    }
   ],
   "source": [
    "print (\"Tupla de cadenas\")\n",
    "cadenas = (\"hola\", \"mundo\", \"desde\", \"python\")\n",
    "print (cadenas)\n",
    "print (type(cadenas))"
   ]
  },
  {
   "cell_type": "markdown",
   "id": "57042d06",
   "metadata": {},
   "source": [
    "#### **Tupla de mixta**"
   ]
  },
  {
   "cell_type": "code",
   "execution_count": 3,
   "id": "52b6ed87",
   "metadata": {},
   "outputs": [
    {
     "name": "stdout",
     "output_type": "stream",
     "text": [
      "Tupla Mixta\n",
      "(1, 'hola', True, 2.5)\n",
      "<class 'tuple'>\n"
     ]
    }
   ],
   "source": [
    "print (\"Tupla Mixta\") \n",
    "mixta = (1, \"hola\", True, 2.5)\n",
    "print (mixta)\n",
    "print (type(mixta))"
   ]
  },
  {
   "cell_type": "markdown",
   "id": "d0a0b471",
   "metadata": {},
   "source": [
    "#### **Tupla de vacia**"
   ]
  },
  {
   "cell_type": "code",
   "execution_count": 4,
   "id": "43447e72",
   "metadata": {},
   "outputs": [
    {
     "name": "stdout",
     "output_type": "stream",
     "text": [
      "Tupla vacia\n",
      "()\n",
      "<class 'tuple'>\n"
     ]
    }
   ],
   "source": [
    "print (\"Tupla vacia\")\n",
    "vacia = ()\n",
    "print (vacia)\n",
    "print (type(vacia))"
   ]
  },
  {
   "cell_type": "markdown",
   "id": "335b5092",
   "metadata": {},
   "source": [
    "#### **Tupla con un solo elemento**"
   ]
  },
  {
   "cell_type": "code",
   "execution_count": 5,
   "id": "f91dbcbc",
   "metadata": {},
   "outputs": [
    {
     "name": "stdout",
     "output_type": "stream",
     "text": [
      "Tupla de un solo elemento\n",
      "(1,)\n",
      "<class 'tuple'>\n"
     ]
    }
   ],
   "source": [
    "print (\"Tupla de un solo elemento\")\n",
    "uno = (1,)\n",
    "print (uno)\n",
    "print (type(uno))"
   ]
  },
  {
   "cell_type": "markdown",
   "id": "f302843b",
   "metadata": {},
   "source": [
    "Se usa la función tuple() para crear una tupla, su utilidad es convertir una secuencia en una tupla\n",
    "\n",
    "Utilizado con cadenas, listas, otras tuplas, etc.\n",
    "\n",
    "#### **Tupla de una cadena**"
   ]
  },
  {
   "cell_type": "code",
   "execution_count": 6,
   "id": "e2d7ee19",
   "metadata": {},
   "outputs": [
    {
     "name": "stdout",
     "output_type": "stream",
     "text": [
      "Tupla utilizando la función tuple()\n",
      "('h', 'o', 'l', 'a')\n",
      "<class 'tuple'>\n"
     ]
    }
   ],
   "source": [
    "print (\"Tupla utilizando la función tuple()\")\n",
    "constructor = tuple(\"hola\")\n",
    "print (constructor)\n",
    "print (type(constructor))"
   ]
  },
  {
   "cell_type": "markdown",
   "id": "313a31dd",
   "metadata": {},
   "source": [
    "#### **Indexación y Slicing**\n",
    "Se puede acceder a los diferentes valores de la tupla utilizando indexación\n",
    "Obtener solo una parte de la tupla utilizando slicing\n",
    "Similar a las cadenas de texto\n",
    "\n",
    "Acceso utilizando índices positivos"
   ]
  },
  {
   "cell_type": "code",
   "execution_count": 8,
   "id": "fb462518",
   "metadata": {},
   "outputs": [
    {
     "name": "stdout",
     "output_type": "stream",
     "text": [
      "Indexado positivo de una tupla\n",
      "1 <class 'int'>\n",
      "2.0 <class 'float'>\n",
      "hola <class 'str'>\n",
      "True <class 'bool'>\n"
     ]
    }
   ],
   "source": [
    "print (\"Indexado positivo de una tupla\")\n",
    "tupla = (1,2.0, \"hola\", True)\n",
    "print (tupla[0], type(tupla[0]))\n",
    "print (tupla[1], type(tupla[1]))\n",
    "print (tupla[2], type(tupla[2]))\n",
    "print (tupla[3], type(tupla[3]))"
   ]
  },
  {
   "cell_type": "markdown",
   "id": "0d0fc444",
   "metadata": {},
   "source": [
    "Se accede a los elementos de la tupla de forma negativa de derecha a izquierda\n",
    "\n",
    "Empezando en el índice -1\n",
    "\n",
    "Hasta la -longitud de la tupla\n",
    "\n",
    "Acceso utilizando índices negativos"
   ]
  },
  {
   "cell_type": "code",
   "execution_count": 9,
   "id": "c4c167ee",
   "metadata": {},
   "outputs": [
    {
     "name": "stdout",
     "output_type": "stream",
     "text": [
      "Indexado negativo de una tupla\n",
      "True <class 'bool'>\n",
      "hola <class 'str'>\n",
      "2.0 <class 'float'>\n",
      "1 <class 'int'>\n"
     ]
    }
   ],
   "source": [
    "print (\"Indexado negativo de una tupla\")\n",
    "tupla = (1,2.0, \"hola\", True)\n",
    "print (tupla[-1], type(tupla[-1]))\n",
    "print (tupla[-2], type(tupla[-2]))\n",
    "print (tupla[-3], type(tupla[-3]))\n",
    "print (tupla[-4], type(tupla[-4]))"
   ]
  },
  {
   "cell_type": "markdown",
   "id": "0e56e53f",
   "metadata": {},
   "source": [
    "La sintaxis para el slicing es\n",
    "- inicio es el índice donde inicia (incluido)\n",
    "- fin es el índice donde termina (excluido)\n",
    "- paso es el tamaño del paso entre los elementos\n",
    "\n",
    "#### Slicing de una tupla"
   ]
  },
  {
   "cell_type": "code",
   "execution_count": 10,
   "id": "efcf3bc4",
   "metadata": {},
   "outputs": [
    {
     "name": "stdout",
     "output_type": "stream",
     "text": [
      "Slicing de una tupla\n",
      "(0, 1, 2, 3, 4, 5, 6, 7, 8, 9, 10)\n",
      "(0, 1, 2, 3, 4)\n",
      "<class 'tuple'>\n"
     ]
    }
   ],
   "source": [
    "print (\"Slicing de una tupla\")\n",
    "tupla = (0,1,2,3,4,5,6,7,8,9,10)\n",
    "print (tupla)\n",
    "sub_tupla = tupla[0:5]\n",
    "print (sub_tupla)\n",
    "print (type(sub_tupla))"
   ]
  },
  {
   "cell_type": "markdown",
   "id": "0a6e939e",
   "metadata": {},
   "source": [
    "#### Slicing con paso positivo"
   ]
  },
  {
   "cell_type": "code",
   "execution_count": 11,
   "id": "7c290967",
   "metadata": {},
   "outputs": [
    {
     "name": "stdout",
     "output_type": "stream",
     "text": [
      "Slicing de una tupla con saltos\n",
      "(0, 1, 2, 3, 4, 5, 6, 7, 8, 9, 10)\n",
      "(0, 2, 4, 6, 8)\n",
      "<class 'tuple'>\n"
     ]
    }
   ],
   "source": [
    "print (\"Slicing de una tupla con saltos\")\n",
    "tupla = (0,1,2,3,4,5,6,7,8,9,10)\n",
    "print (tupla)\n",
    "sub_tupla = tupla[0:10:2]\n",
    "print (sub_tupla)\n",
    "print (type(sub_tupla))"
   ]
  },
  {
   "cell_type": "markdown",
   "id": "b891b6df",
   "metadata": {},
   "source": [
    "#### Slicing con paso negativo"
   ]
  },
  {
   "cell_type": "code",
   "execution_count": 12,
   "id": "b71ef720",
   "metadata": {},
   "outputs": [
    {
     "name": "stdout",
     "output_type": "stream",
     "text": [
      "Slicing de una tupla con saltos negativos\n",
      "(0, 1, 2, 3, 4, 5, 6, 7, 8, 9, 10)\n",
      "(7, 5, 3)\n",
      "<class 'tuple'>\n"
     ]
    }
   ],
   "source": [
    "print (\"Slicing de una tupla con saltos negativos\")\n",
    "tupla = (0,1,2,3,4,5,6,7,8,9,10)\n",
    "print (tupla)\n",
    "sub_tupla = tupla[7:2:-2]\n",
    "print (sub_tupla)\n",
    "print (type(sub_tupla))"
   ]
  },
  {
   "cell_type": "markdown",
   "id": "7631268a",
   "metadata": {},
   "source": [
    "#### Concatenación de tuplas"
   ]
  },
  {
   "cell_type": "code",
   "execution_count": 13,
   "id": "b73d03d0",
   "metadata": {},
   "outputs": [
    {
     "name": "stdout",
     "output_type": "stream",
     "text": [
      "Concatenación de tuplas\n",
      "(1, 2, 3) (4, 5, 6)\n",
      "(1, 2, 3, 4, 5, 6)\n",
      "<class 'tuple'>\n"
     ]
    }
   ],
   "source": [
    "print (\"Concatenación de tuplas\")\n",
    "tupla1 = (1,2,3)\n",
    "tupla2 = (4,5,6)\n",
    "concatenar = tupla1 + tupla2\n",
    "print (tupla1, tupla2)\n",
    "print (concatenar)\n",
    "print (type(concatenar))"
   ]
  },
  {
   "cell_type": "markdown",
   "id": "57e388ad",
   "metadata": {},
   "source": [
    "#### Repetición de tuplas"
   ]
  },
  {
   "cell_type": "code",
   "execution_count": 14,
   "id": "b16c56d0",
   "metadata": {},
   "outputs": [
    {
     "name": "stdout",
     "output_type": "stream",
     "text": [
      "Repetición de tuplas\n",
      "(1, 2, 3)\n",
      "(1, 2, 3, 1, 2, 3, 1, 2, 3)\n",
      "<class 'tuple'>\n"
     ]
    }
   ],
   "source": [
    "print (\"Repetición de tuplas\")\n",
    "tupla = (1,2,3)\n",
    "repetir = tupla * 3\n",
    "print (tupla)\n",
    "print (repetir)\n",
    "print (type(repetir))"
   ]
  },
  {
   "cell_type": "markdown",
   "id": "5984486a",
   "metadata": {},
   "source": [
    "#### Asignación múltiple de valores\n",
    "No utiliza los indices de la tupla ni los paréntesis\n",
    "\n",
    "La cantidad de variables debe ser igual a la cantidad de elementos de la tupla"
   ]
  },
  {
   "cell_type": "code",
   "execution_count": 16,
   "id": "11d9382d",
   "metadata": {},
   "outputs": [
    {
     "name": "stdout",
     "output_type": "stream",
     "text": [
      "Asignación múltiple\n",
      "('Jhon', 'Doe', 22, 1.75)\n",
      "Jhon\n",
      "Doe\n",
      "22\n",
      "1.75\n"
     ]
    }
   ],
   "source": [
    "print (\"Asignación múltiple\")\n",
    "persona = (\"Jhon\", \"Doe\", 22, 1.75)\n",
    "nombre, apellido, edad, estatura = persona\n",
    "print (persona)\n",
    "print (nombre)\n",
    "print (apellido)\n",
    "print (edad)\n",
    "print (estatura)"
   ]
  },
  {
   "cell_type": "markdown",
   "id": "853ebcbc",
   "metadata": {},
   "source": [
    "#### Métodos de las tuplas\n",
    "Las tuplas son inmutables, no tienen métodos que modifiquen su contenido\n",
    "\n",
    "Solo tienen dos métodos\n",
    "\n",
    "- count()\n",
    "- index()\n",
    "Se llama a los métodos utilizando la notación con punto\n",
    "\n",
    "tupla.metodo()"
   ]
  },
  {
   "cell_type": "code",
   "execution_count": 17,
   "id": "05ef4810",
   "metadata": {},
   "outputs": [
    {
     "name": "stdout",
     "output_type": "stream",
     "text": [
      "Método index(valor)\n",
      "1\n",
      "2\n"
     ]
    }
   ],
   "source": [
    "print (\"Método index(valor)\")\n",
    "tupla = (1,2.0, \"hola\", True)\n",
    "print (tupla.index(2.0))\n",
    "print (tupla.index(\"hola\"))"
   ]
  },
  {
   "cell_type": "code",
   "execution_count": 18,
   "id": "ae047236",
   "metadata": {},
   "outputs": [
    {
     "name": "stdout",
     "output_type": "stream",
     "text": [
      "Método count(valor)\n",
      "1\n",
      "2\n",
      "0\n"
     ]
    }
   ],
   "source": [
    "print (\"Método count(valor)\")\n",
    "tupla = (1, 2.0, \"hola\", False, \"hola\", \"HOLA\")\n",
    "print (tupla.count(1))\n",
    "print (tupla.count(\"hola\"))\n",
    "print (tupla.count(10))"
   ]
  },
  {
   "cell_type": "markdown",
   "id": "24fb6960",
   "metadata": {},
   "source": [
    "#### Funciones con tuplas\n",
    "Las tuplas interactúan con funciones propias de Python estas son las más importantes\n",
    "\n",
    "- len()\n",
    "- max()\n",
    "- min()\n",
    "- sum()\n",
    "\n",
    "Existen otras funciones pueden encontrarse en la *documentación* y *funciones incorporadas*"
   ]
  },
  {
   "cell_type": "code",
   "execution_count": 19,
   "id": "0fe27e1c",
   "metadata": {},
   "outputs": [
    {
     "name": "stdout",
     "output_type": "stream",
     "text": [
      "Función len()\n",
      "(1, 2.0, 'hola', True)\n",
      "4\n",
      "Función max()\n",
      "(1, 2, 10, 5, 8, 0)\n",
      "10\n",
      "Función min()\n",
      "('a', 'z', 'c', 'b', 'f', 'd')\n",
      "a\n",
      "Función sum()\n",
      "(1.0, 0.5, 2.5, 3.1)\n",
      "7.1\n"
     ]
    }
   ],
   "source": [
    "print (\"Función len()\")\n",
    "tupla = (1,2.0, \"hola\", True)\n",
    "longitud = len(tupla)\n",
    "print (tupla)\n",
    "print (longitud)\n",
    "\n",
    "print (\"Función max()\")\n",
    "tupla = (1,2,10,5,8,0)\n",
    "maximo = max(tupla)\n",
    "print (tupla)\n",
    "print (maximo)\n",
    "\n",
    "print (\"Función min()\")\n",
    "tupla = (\"a\",\"z\",\"c\",\"b\",\"f\",\"d\")\n",
    "minimo = min(tupla)\n",
    "print (tupla)\n",
    "print (minimo)\n",
    "\n",
    "print (\"Función sum()\")\n",
    "tupla = (1.0, 0.5, 2.5, 3.1)\n",
    "suma = sum(tupla)\n",
    "print (tupla)\n",
    "print (suma)"
   ]
  },
  {
   "cell_type": "markdown",
   "id": "418d63fe",
   "metadata": {},
   "source": [
    "#### Tuplas anidadas\n",
    "Una tupla puede contener otras tuplas como elementos"
   ]
  },
  {
   "cell_type": "code",
   "execution_count": 20,
   "id": "eb24112b",
   "metadata": {},
   "outputs": [
    {
     "name": "stdout",
     "output_type": "stream",
     "text": [
      "Tuplas anidadas\n",
      "(1, 2, 3, (4, 5, 6))\n",
      "(1, 2, 3, (4, 5, 6)) <class 'tuple'>\n",
      "(4, 5, 6) <class 'tuple'>\n",
      "4 <class 'int'>\n"
     ]
    }
   ],
   "source": [
    "print (\"Tuplas anidadas\")\n",
    "tupla = (1,2,3, (4,5,6))\n",
    "print (tupla)\n",
    "print (tupla, type(tupla))\n",
    "print (tupla[3], type(tupla[3]))\n",
    "print (tupla[3][0], type(tupla[3][0]))"
   ]
  },
  {
   "cell_type": "markdown",
   "id": "e3547ce1",
   "metadata": {},
   "source": [
    "Anidado al detalle"
   ]
  },
  {
   "cell_type": "code",
   "execution_count": 21,
   "id": "364e6dc9",
   "metadata": {},
   "outputs": [
    {
     "name": "stdout",
     "output_type": "stream",
     "text": [
      "Tuplas anidadas\n",
      "(1, 2, 3, (4, 5, 6)) <class 'tuple'>\n",
      "(4, 5, 6) <class 'tuple'>\n",
      "4 <class 'int'>\n",
      "5 <class 'int'>\n"
     ]
    }
   ],
   "source": [
    "print (\"Tuplas anidadas\")\n",
    "tupla = (1,2,3, (4,5,6))\n",
    "print (tupla, type(tupla))\n",
    "anidado = tupla[3]\n",
    "print (anidado, type(anidado))\n",
    "valor_anidado_0 = anidado[0]\n",
    "print (valor_anidado_0, type(valor_anidado_0))\n",
    "valor_anidado_1 = tupla[3][1]\n",
    "print (valor_anidado_1, type(valor_anidado_1))"
   ]
  }
 ],
 "metadata": {
  "kernelspec": {
   "display_name": "Python 3",
   "language": "python",
   "name": "python3"
  },
  "language_info": {
   "codemirror_mode": {
    "name": "ipython",
    "version": 3
   },
   "file_extension": ".py",
   "mimetype": "text/x-python",
   "name": "python",
   "nbconvert_exporter": "python",
   "pygments_lexer": "ipython3",
   "version": "3.13.3"
  }
 },
 "nbformat": 4,
 "nbformat_minor": 5
}
