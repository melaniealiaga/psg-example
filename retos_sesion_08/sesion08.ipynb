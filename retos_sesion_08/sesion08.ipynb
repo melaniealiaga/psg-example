{
 "cells": [
  {
   "cell_type": "markdown",
   "id": "9ff770d8",
   "metadata": {},
   "source": [
    "# **Sesión 08**\n",
    "## **Estructuras de datos**\n",
    "### **TUPLAS**\n",
    "#### ¿Qué es una estructura de datos?\n",
    "Es una forma de organizar y almacenar datos de manera eficiente para su uso y manipulación, \n",
    "las más comunes son tuplas, listas, conjuntos y diccionarios.\n",
    "#### ¿Qué es una tupla?\n",
    "Una tupla es un par ordenado de elementos que se almacenan juntos (x,y)\n",
    "En un inicio almacena dos elementos. Posteriormente se extendió a más elementos"
   ]
  },
  {
   "cell_type": "markdown",
   "id": "a39238aa",
   "metadata": {},
   "source": [
    "Una tupla es una secuencia de objetos **INMUTABLES**\n",
    "#### Ordenados e indexados\n",
    "- Inmutable: No se puede modificar, agregar o eliminar elementos después de su creación\n",
    "- Ordenada: Los elementos tienen un orden definido y no cambian"
   ]
  }
 ],
 "metadata": {
  "language_info": {
   "name": "python"
  }
 },
 "nbformat": 4,
 "nbformat_minor": 5
}
