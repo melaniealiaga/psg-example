{
 "cells": [
  {
   "cell_type": "code",
   "execution_count": null,
   "id": "4c1db0ba",
   "metadata": {},
   "outputs": [],
   "source": [
    "print (\"Hola, Mundo desde Notebook!\")"
   ]
  }
 ],
 "metadata": {
  "kernelspec": {
   "display_name": "Python 3",
   "language": "python",
   "name": "python3"
  },
  "language_info": {
   "name": "python",
   "version": "undefined.undefined.undefined"
  }
 },
 "nbformat": 4,
 "nbformat_minor": 5
}
