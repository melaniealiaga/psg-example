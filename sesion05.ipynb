{
 "cells": [
  {
   "cell_type": "markdown",
   "id": "d6c2f48e",
   "metadata": {},
   "source": [
    "# **EJEMPLOS SESION 05**\n",
    "## *¿Cómo declarar un número entero?*\n",
    "Se puede declarar directamente en el código, como se observa a continuación:\n",
    "### **Valor 10 Entero**"
   ]
  },
  {
   "cell_type": "code",
   "execution_count": null,
   "id": "99db5572",
   "metadata": {},
   "outputs": [
    {
     "name": "stdout",
     "output_type": "stream",
     "text": [
      "10\n",
      "<class 'int'>\n"
     ]
    }
   ],
   "source": [
    "print (10)\n",
    "print ( type (10) )"
   ]
  },
  {
   "cell_type": "markdown",
   "id": "fb6d44b9",
   "metadata": {},
   "source": [
    "De esta manera se puede declarar divesas variables, usando la función int:\n",
    "### **Variable 100 Entero**"
   ]
  },
  {
   "cell_type": "code",
   "execution_count": null,
   "id": "ff81426e",
   "metadata": {},
   "outputs": [
    {
     "name": "stdout",
     "output_type": "stream",
     "text": [
      "100\n",
      "<class 'int'>\n"
     ]
    }
   ],
   "source": [
    "variable = 100\n",
    "print (variable)\n",
    "print ( type (variable) )"
   ]
  },
  {
   "cell_type": "markdown",
   "id": "2f69183c",
   "metadata": {},
   "source": [
    "### **Variable 20 Entero**"
   ]
  },
  {
   "cell_type": "code",
   "execution_count": 3,
   "id": "d0e2194a",
   "metadata": {},
   "outputs": [
    {
     "name": "stdout",
     "output_type": "stream",
     "text": [
      "20\n",
      "<class 'int'>\n"
     ]
    }
   ],
   "source": [
    "# Variable 20 Entero\n",
    "variable_2 = int (20)\n",
    "print (variable_2)\n",
    "print ( type (variable_2) )"
   ]
  },
  {
   "cell_type": "markdown",
   "id": "f8cf88f2",
   "metadata": {},
   "source": [
    "Declarando números enteros en otras bases numéricas, siendo estas:\n",
    "### **Decimal, binaria, octal, hexadecimal**"
   ]
  },
  {
   "cell_type": "code",
   "execution_count": 4,
   "id": "d78c4341",
   "metadata": {},
   "outputs": [
    {
     "name": "stdout",
     "output_type": "stream",
     "text": [
      "Base decimal\n",
      "10\n",
      "Base binaria\n",
      "10\n",
      "Base octal\n",
      "10\n",
      "Base hexadecimal\n",
      "10\n"
     ]
    }
   ],
   "source": [
    "# Valor 10 en base decimal\n",
    "print (\"Base decimal\")\n",
    "print (10)\n",
    "# Valor 10 en binario\n",
    "print (\"Base binaria\")\n",
    "print (0b1010)\n",
    "# Valor 10 en octal\n",
    "print (\"Base octal\")\n",
    "print (0o12)\n",
    "# Valor 10 en hexadecimal\n",
    "print (\"Base hexadecimal\")\n",
    "print (0xa)"
   ]
  },
  {
   "cell_type": "markdown",
   "id": "69963c35",
   "metadata": {},
   "source": [
    "## *¿Qué tan grande puede ser el valor de un entero en Python?*\n",
    "- Python no tienen un límite máximo predefinido para los enteros.\n",
    "- Podemos declarar enteros tan grandes como la memoria del sistema lo permita.\n",
    "### **Entero con 6 dígitos**"
   ]
  },
  {
   "cell_type": "code",
   "execution_count": 5,
   "id": "35f5453b",
   "metadata": {},
   "outputs": [
    {
     "name": "stdout",
     "output_type": "stream",
     "text": [
      "123456789012345678901234567890123456789012345678901234567890\n",
      "<class 'int'>\n"
     ]
    }
   ],
   "source": [
    "# Entero con 60 dígitos\n",
    "variable_3 = 123456789012345678901234567890123456789012345678901234567890\n",
    "print (variable_3)\n",
    "print (type (variable_3))"
   ]
  },
  {
   "cell_type": "markdown",
   "id": "be420cd0",
   "metadata": {},
   "source": [
    "## *¿Cómo declarar un número flotante?*\n",
    "Se puede declarar directamente con el siguiente código, se puede declarar en una variables:\n",
    "### **Ejemplos Valor Flotante**"
   ]
  },
  {
   "cell_type": "code",
   "execution_count": null,
   "id": "647f5ade",
   "metadata": {},
   "outputs": [
    {
     "name": "stdout",
     "output_type": "stream",
     "text": [
      "0.5\n",
      "<class 'float'>\n",
      "0.100546\n",
      "<class 'float'>\n"
     ]
    }
   ],
   "source": [
    "# Valor 0.5 Flotante\n",
    "print (0.5)\n",
    "print ( type (0.5) )\n",
    "\n",
    "# Variable 0.100546 Flotante\n",
    "variable_4 = 0.100546\n",
    "print (variable_4)\n",
    "print ( type (variable_4) )\n"
   ]
  },
  {
   "cell_type": "markdown",
   "id": "b9cc1799",
   "metadata": {},
   "source": [
    "## *¿Cual es el limite de precisión de un flotante?*\n",
    "### **Precisión máxima con 17 decimales**"
   ]
  },
  {
   "cell_type": "code",
   "execution_count": 7,
   "id": "c48bceb4",
   "metadata": {},
   "outputs": [
    {
     "name": "stdout",
     "output_type": "stream",
     "text": [
      "0.9999999999999999\n",
      "<class 'float'>\n"
     ]
    }
   ],
   "source": [
    "# Precisión de 17 decimales\n",
    "variable_5 = 0.9999999999999999\n",
    "print(variable_5)\n",
    "print ( type (variable_5) )"
   ]
  },
  {
   "cell_type": "markdown",
   "id": "6fe6c7d3",
   "metadata": {},
   "source": [
    "## *¿Cómo declarar un número flotante?*\n",
    "Se puede declarar usando la función float\n",
    "### **Variable 1 Flotante**"
   ]
  },
  {
   "cell_type": "code",
   "execution_count": 8,
   "id": "1df19e68",
   "metadata": {},
   "outputs": [
    {
     "name": "stdout",
     "output_type": "stream",
     "text": [
      "1.0\n",
      "<class 'float'>\n"
     ]
    }
   ],
   "source": [
    "# Variable 1 Flotante\n",
    "variable_7 = float (1)\n",
    "print(variable_7)\n",
    "print ( type (variable_7) )"
   ]
  },
  {
   "cell_type": "markdown",
   "id": "e3e1aa55",
   "metadata": {},
   "source": [
    "## *¿Cómo declarar un número flotante?*\n",
    "Se puede declarar utilizando notación científica con la letra \"e\" y el exponente\n",
    "### **Valor 2.0e-3 Flotante**"
   ]
  },
  {
   "cell_type": "code",
   "execution_count": 9,
   "id": "e56123b7",
   "metadata": {},
   "outputs": [
    {
     "name": "stdout",
     "output_type": "stream",
     "text": [
      "0.002\n",
      "<class 'float'>\n"
     ]
    }
   ],
   "source": [
    "# Valor 2.0e-3 Flotante\n",
    "variable_6 = 2.0e-3\n",
    "print(variable_6)\n",
    "print ( type (variable_6) )"
   ]
  },
  {
   "cell_type": "markdown",
   "id": "dbb49bc6",
   "metadata": {},
   "source": [
    "### **Ejercicio 01**\n",
    "Un contador tiene 300 minutos y se le suman 3600 segundos, *¿Cuántas horas en total son?*"
   ]
  },
  {
   "cell_type": "code",
   "execution_count": 10,
   "id": "686f43ee",
   "metadata": {},
   "outputs": [
    {
     "name": "stdout",
     "output_type": "stream",
     "text": [
      "6.0\n"
     ]
    }
   ],
   "source": [
    "# Ejercicio \n",
    "# Operaciones más complejas\n",
    "minutos = 300\n",
    "tiempo_extra_segundos = 3600\n",
    "horas = (minutos + tiempo_extra_segundos / 60) / 60\n",
    "print (horas)"
   ]
  },
  {
   "cell_type": "markdown",
   "id": "8d16f712",
   "metadata": {},
   "source": [
    "### **Operadores de comparación en Python**\n",
    "- <: Estrictamente menor que\n",
    "- '>: Estrictamente mayor que\n",
    "- ==: Estrictamente igual que\n",
    "- <=: Menor o igual que\n",
    "- '>=: Mayor o igual que\n",
    "- != : Estrictamente diferente que"
   ]
  },
  {
   "cell_type": "code",
   "execution_count": 1,
   "id": "3144b943",
   "metadata": {},
   "outputs": [
    {
     "name": "stdout",
     "output_type": "stream",
     "text": [
      "Operadores de comparación con int - float\n",
      "False\n",
      "False\n",
      "True\n",
      "True\n",
      "True\n",
      "False\n"
     ]
    }
   ],
   "source": [
    "print (\"Operadores de comparación con int - float\")\n",
    "entero = 10\n",
    "flotante = 10.0\n",
    "print (entero < flotante)\n",
    "print (entero > flotante)\n",
    "print (entero == flotante)\n",
    "print (entero <= flotante)\n",
    "print (entero >= flotante)\n",
    "print (entero != flotante)"
   ]
  }
 ],
 "metadata": {
  "kernelspec": {
   "display_name": "Python 3",
   "language": "python",
   "name": "python3"
  },
  "language_info": {
   "codemirror_mode": {
    "name": "ipython",
    "version": 3
   },
   "file_extension": ".py",
   "mimetype": "text/x-python",
   "name": "python",
   "nbconvert_exporter": "python",
   "pygments_lexer": "ipython3",
   "version": "3.13.3"
  }
 },
 "nbformat": 4,
 "nbformat_minor": 5
}
